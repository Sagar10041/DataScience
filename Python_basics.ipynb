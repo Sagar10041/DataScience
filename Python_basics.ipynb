{
 "cells": [
  {
   "cell_type": "code",
   "execution_count": 5,
   "id": "7dd7c071-37d6-43d0-a520-881226d297da",
   "metadata": {},
   "outputs": [],
   "source": [
    "a=[1,2,3,4,5,6]\n",
    "a.append(00)\n",
    "\n"
   ]
  },
  {
   "cell_type": "code",
   "execution_count": 8,
   "id": "d6268a77-8f50-4530-949a-63bfae6234f1",
   "metadata": {},
   "outputs": [
    {
     "data": {
      "text/plain": [
       "\u001b[31mType:\u001b[39m        list\n",
       "\u001b[31mString form:\u001b[39m [1, 2, 3, 4, 5, 6, 0]\n",
       "\u001b[31mLength:\u001b[39m      7\n",
       "\u001b[31mDocstring:\u001b[39m  \n",
       "Built-in mutable sequence.\n",
       "\n",
       "If no argument is given, the constructor creates a new empty list.\n",
       "The argument must be an iterable if specified."
      ]
     },
     "metadata": {},
     "output_type": "display_data"
    }
   ],
   "source": [
    "?a\n"
   ]
  },
  {
   "cell_type": "code",
   "execution_count": 13,
   "id": "7bfb60b9-f7c0-434b-92fb-09528b83aed8",
   "metadata": {},
   "outputs": [
    {
     "name": "stdout",
     "output_type": "stream",
     "text": [
      "[100, 200, 300]\n"
     ]
    }
   ],
   "source": [
    "def reassign_list(some_list):\n",
    "    some_list = [100, 200, 300]  # this does NOT affect the original\n",
    "    print(some_list)\n",
    "data = [1, 2, 3]\n",
    "reassign_list(data)\n",
    "  # ➜ [1, 2, 3] (unchanged)\n"
   ]
  },
  {
   "cell_type": "code",
   "execution_count": 10,
   "id": "2cb3bfc6-623b-42bf-862f-7472d4776c6a",
   "metadata": {},
   "outputs": [
    {
     "data": {
      "text/plain": [
       "[3, 4, 5, 6]"
      ]
     },
     "execution_count": 10,
     "metadata": {},
     "output_type": "execute_result"
    }
   ],
   "source": [
    "a,b, *_ = (1,2,3,4,5,6)\n",
    "_"
   ]
  },
  {
   "cell_type": "code",
   "execution_count": 13,
   "id": "f974c74d-bf8f-4123-b946-54f62cd1ff11",
   "metadata": {},
   "outputs": [
    {
     "data": {
      "text/plain": [
       "3"
      ]
     },
     "execution_count": 13,
     "metadata": {},
     "output_type": "execute_result"
    }
   ],
   "source": [
    "a=(1,2,3,4)\n",
    "a.index(4)\n"
   ]
  },
  {
   "cell_type": "code",
   "execution_count": 32,
   "id": "2de4e094-8f4b-4d8f-ba2a-a051aad04403",
   "metadata": {},
   "outputs": [
    {
     "data": {
      "text/plain": [
       "[]"
      ]
     },
     "execution_count": 32,
     "metadata": {},
     "output_type": "execute_result"
    }
   ],
   "source": [
    "b=[1,2,3,4,5]\n",
    "b[6::1]\n"
   ]
  },
  {
   "cell_type": "code",
   "execution_count": 1,
   "id": "0cd531c2-f9d3-4a7b-b49d-fb57ef5d1045",
   "metadata": {},
   "outputs": [
    {
     "data": {
      "text/plain": [
       "['BAT', 'CAR', 'DOVE', 'PYTHON']"
      ]
     },
     "execution_count": 1,
     "metadata": {},
     "output_type": "execute_result"
    }
   ],
   "source": [
    "strings = [\"a\", \"as\", \"bat\", \"car\", \"dove\", \"python\"]\n",
    "\n",
    "[x.upper() for x in strings if len(x) > 2]\n"
   ]
  }
 ],
 "metadata": {
  "kernelspec": {
   "display_name": "Python 3 (ipykernel)",
   "language": "python",
   "name": "python3"
  },
  "language_info": {
   "codemirror_mode": {
    "name": "ipython",
    "version": 3
   },
   "file_extension": ".py",
   "mimetype": "text/x-python",
   "name": "python",
   "nbconvert_exporter": "python",
   "pygments_lexer": "ipython3",
   "version": "3.13.2"
  }
 },
 "nbformat": 4,
 "nbformat_minor": 5
}
